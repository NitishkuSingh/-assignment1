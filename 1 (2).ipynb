{
 "cells": [
  {
   "cell_type": "markdown",
   "id": "5dfe7710-aa29-40dc-8849-3d94dbbc6ea5",
   "metadata": {},
   "source": [
    "Question - 1"
   ]
  },
  {
   "cell_type": "code",
   "execution_count": 1,
   "id": "02f32551-bd10-4a5e-9c71-6de8201c1c5f",
   "metadata": {},
   "outputs": [
    {
     "name": "stdout",
     "output_type": "stream",
     "text": [
      "1\n",
      "2\n",
      "3\n",
      "4\n",
      "5\n"
     ]
    }
   ],
   "source": [
    "#For loop\n",
    "for i in range(1, 6):\n",
    "    print(i)"
   ]
  },
  {
   "cell_type": "code",
   "execution_count": 2,
   "id": "1b73b096-3b36-4f3e-86dc-6638f45fca1f",
   "metadata": {},
   "outputs": [
    {
     "name": "stdout",
     "output_type": "stream",
     "text": [
      "Factorial: 120\n"
     ]
    }
   ],
   "source": [
    "#While loop\n",
    "number = 5\n",
    "factorial = 1\n",
    "while number > 0:\n",
    "    factorial *= number\n",
    "    number -= 1\n",
    "print(\"Factorial:\", factorial)"
   ]
  },
  {
   "cell_type": "markdown",
   "id": "162db6d7-c7d8-4c87-bbd8-2be8572b50a5",
   "metadata": {},
   "source": [
    "Question - 2 "
   ]
  },
  {
   "cell_type": "code",
   "execution_count": 3,
   "id": "16cb223f-c35a-4d3b-aed7-3d6aa9d99629",
   "metadata": {},
   "outputs": [
    {
     "name": "stdout",
     "output_type": "stream",
     "text": [
      "Sum of the first 10 natural numbers: 55\n"
     ]
    }
   ],
   "source": [
    "#foor loop\n",
    "sum_of_numbers = 0\n",
    "for num in range(1, 11):\n",
    "    sum_of_numbers += num\n",
    "print(\"Sum of the first 10 natural numbers:\", sum_of_numbers)"
   ]
  },
  {
   "cell_type": "code",
   "execution_count": 4,
   "id": "fba42889-dbdc-4cff-b05b-c27de356df84",
   "metadata": {},
   "outputs": [
    {
     "name": "stdout",
     "output_type": "stream",
     "text": [
      "Sum of the first 10 natural numbers: 55\n"
     ]
    }
   ],
   "source": [
    "# While loop\n",
    "num = 1\n",
    "sum_of_numbers = 0\n",
    "while num <= 10:\n",
    "    sum_of_numbers += num\n",
    "    num += 1\n",
    "print(\"Sum of the first 10 natural numbers:\", sum_of_numbers)"
   ]
  },
  {
   "cell_type": "markdown",
   "id": "82ec0e53-f663-4da5-85d8-8d6e1d6538ac",
   "metadata": {},
   "source": [
    "Question - 3"
   ]
  },
  {
   "cell_type": "code",
   "execution_count": 5,
   "id": "b7ea3ff3-d19b-46cc-a4a6-8d822b32c6c4",
   "metadata": {},
   "outputs": [
    {
     "name": "stdin",
     "output_type": "stream",
     "text": [
      "Enter the units of electricity consumed in a month:  200\n"
     ]
    },
    {
     "name": "stdout",
     "output_type": "stream",
     "text": [
      "Total electricity bill: Rs. 1050.0\n"
     ]
    }
   ],
   "source": [
    "def calculate_electricity_bill(units):\n",
    "    total_bill = 0\n",
    "    \n",
    "    # For the first 100 units\n",
    "    if units <= 100:\n",
    "        total_bill += units * 4.5\n",
    "    else:\n",
    "        total_bill += 100 * 4.5\n",
    "        units -= 100\n",
    "    \n",
    "        # For the next 100 units\n",
    "        if units <= 100:\n",
    "            total_bill += units * 6\n",
    "        else:\n",
    "            total_bill += 100 * 6\n",
    "            units -= 100\n",
    "    \n",
    "            # For the next 100 units\n",
    "            if units <= 100:\n",
    "                total_bill += units * 10\n",
    "            else:\n",
    "                total_bill += 100 * 10\n",
    "                units -= 100\n",
    "    \n",
    "                # For units above 300\n",
    "                total_bill += units * 20\n",
    "    \n",
    "    return total_bill\n",
    "\n",
    "units_consumed = int(input(\"Enter the units of electricity consumed in a month: \"))\n",
    "electricity_bill = calculate_electricity_bill(units_consumed)\n",
    "print(\"Total electricity bill: Rs.\", electricity_bill)"
   ]
  },
  {
   "cell_type": "markdown",
   "id": "cc735bac-aa84-4dff-9ea9-0a672db1f7d5",
   "metadata": {},
   "source": [
    "Quesion - 4"
   ]
  },
  {
   "cell_type": "code",
   "execution_count": 6,
   "id": "6f9a124d-5dff-4d1f-bfdc-37e0628f6e1a",
   "metadata": {},
   "outputs": [
    {
     "name": "stdout",
     "output_type": "stream",
     "text": [
      "Using a for loop:\n",
      "[2, 4, 5, 6, 8, 10, 12, 14, 15, 16, 18, 20, 22, 24, 25, 26, 28, 30, 32, 34, 35, 36, 38, 40, 42, 44, 45, 46, 48, 50, 52, 54, 55, 56, 58, 60, 62, 64, 65, 66, 68, 70, 72, 74, 75, 76, 78, 80, 82, 84, 85, 86, 88, 90, 92, 94, 95, 96, 98, 100]\n"
     ]
    }
   ],
   "source": [
    "# Using a for loop\n",
    "numbers = list(range(1, 101))\n",
    "cubes_divisible_by_4_or_5 = []\n",
    "\n",
    "for num in numbers:\n",
    "    cube = num ** 3\n",
    "    if cube % 4 == 0 or cube % 5 == 0:\n",
    "        cubes_divisible_by_4_or_5.append(num)\n",
    "\n",
    "print(\"Using a for loop:\")\n",
    "print(cubes_divisible_by_4_or_5)"
   ]
  },
  {
   "cell_type": "code",
   "execution_count": 7,
   "id": "e3cb4806-46d9-49d4-b6b2-b7b4f7b45255",
   "metadata": {},
   "outputs": [
    {
     "name": "stdout",
     "output_type": "stream",
     "text": [
      "Using a while loop:\n",
      "[2, 4, 5, 6, 8, 10, 12, 14, 15, 16, 18, 20, 22, 24, 25, 26, 28, 30, 32, 34, 35, 36, 38, 40, 42, 44, 45, 46, 48, 50, 52, 54, 55, 56, 58, 60, 62, 64, 65, 66, 68, 70, 72, 74, 75, 76, 78, 80, 82, 84, 85, 86, 88, 90, 92, 94, 95, 96, 98, 100]\n"
     ]
    }
   ],
   "source": [
    "# Using a while loop\n",
    "numbers = list(range(1, 101))\n",
    "cubes_divisible_by_4_or_5 = []\n",
    "index = 0\n",
    "\n",
    "while index < len(numbers):\n",
    "    cube = numbers[index] ** 3\n",
    "    if cube % 4 == 0 or cube % 5 == 0:\n",
    "        cubes_divisible_by_4_or_5.append(numbers[index])\n",
    "    index += 1\n",
    "\n",
    "print(\"Using a while loop:\")\n",
    "print(cubes_divisible_by_4_or_5)"
   ]
  },
  {
   "cell_type": "markdown",
   "id": "68776533-d1f8-46c3-9936-b856a19d12cf",
   "metadata": {},
   "source": [
    "Question - 5"
   ]
  },
  {
   "cell_type": "code",
   "execution_count": null,
   "id": "2433edc7-fca5-4166-882e-6a54a745196a",
   "metadata": {},
   "outputs": [],
   "source": []
  }
 ],
 "metadata": {
  "kernelspec": {
   "display_name": "Python 3 (ipykernel)",
   "language": "python",
   "name": "python3"
  },
  "language_info": {
   "codemirror_mode": {
    "name": "ipython",
    "version": 3
   },
   "file_extension": ".py",
   "mimetype": "text/x-python",
   "name": "python",
   "nbconvert_exporter": "python",
   "pygments_lexer": "ipython3",
   "version": "3.10.8"
  }
 },
 "nbformat": 4,
 "nbformat_minor": 5
}
